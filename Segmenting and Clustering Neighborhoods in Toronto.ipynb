{
 "cells": [
  {
   "cell_type": "markdown",
   "metadata": {},
   "source": [
    "# Segmenting and Clustering Neighborhoods in Toronto"
   ]
  },
  {
   "cell_type": "markdown",
   "metadata": {},
   "source": [
    "In this assignment, we will be scraping postal code data from Wikipedia for the city of Toronto. In part 1, we will then wrangle and clean the data in order to get information about venues in the city's neighborhoods using the __Foursquare API__. Then, in part 2, we will use a _k_-means algorithm to cluster the neighborhoods by most popular venues. Finally, in part 3, we will visualize the clusters on a map of Toronto."
   ]
  },
  {
   "cell_type": "markdown",
   "metadata": {},
   "source": [
    "## Part 0 - Load Necessary Libraries"
   ]
  },
  {
   "cell_type": "code",
   "execution_count": 2,
   "metadata": {},
   "outputs": [],
   "source": [
    "import pandas as pd\n",
    "import numpy as np\n",
    "\n",
    "from geopy.geocoders import Nominatim  # convert an address into latitude and longitude values\n",
    "\n",
    "import requests  # handle requests\n",
    "from bs4 import BeautifulSoup  # web scraper\n",
    "\n",
    "from pandas import json_normalize  # tranform JSON file into a pandas dataframe\n",
    "\n",
    "# Matplotlib and associated plotting modules\n",
    "import matplotlib.cm as cm\n",
    "import matplotlib.colors as colors\n",
    "\n",
    "from sklearn.cluster import KMeans\n",
    "\n",
    "import folium  # map rendering library"
   ]
  },
  {
   "cell_type": "markdown",
   "metadata": {},
   "source": [
    "## Part 1 - Web Scraping"
   ]
  },
  {
   "cell_type": "markdown",
   "metadata": {},
   "source": [
    "Scrape the Wikipedia page using an HTML parser."
   ]
  },
  {
   "cell_type": "code",
   "execution_count": 112,
   "metadata": {},
   "outputs": [],
   "source": [
    "url = 'https://en.wikipedia.org/wiki/List_of_postal_codes_of_Canada:_M'\n",
    "\n",
    "req = requests.get(url)\n",
    "\n",
    "soup = BeautifulSoup(req.content, 'html.parser')"
   ]
  },
  {
   "cell_type": "markdown",
   "metadata": {},
   "source": [
    "Find the table in the HTML, and extract the data in each column. Then create a DataFrame to store all the data."
   ]
  },
  {
   "cell_type": "code",
   "execution_count": 113,
   "metadata": {},
   "outputs": [
    {
     "data": {
      "text/html": [
       "<div>\n",
       "<style scoped>\n",
       "    .dataframe tbody tr th:only-of-type {\n",
       "        vertical-align: middle;\n",
       "    }\n",
       "\n",
       "    .dataframe tbody tr th {\n",
       "        vertical-align: top;\n",
       "    }\n",
       "\n",
       "    .dataframe thead th {\n",
       "        text-align: right;\n",
       "    }\n",
       "</style>\n",
       "<table border=\"1\" class=\"dataframe\">\n",
       "  <thead>\n",
       "    <tr style=\"text-align: right;\">\n",
       "      <th></th>\n",
       "      <th>PostalCode</th>\n",
       "      <th>Borough</th>\n",
       "      <th>Neighborhood</th>\n",
       "    </tr>\n",
       "  </thead>\n",
       "  <tbody>\n",
       "    <tr>\n",
       "      <th>0</th>\n",
       "      <td>M1A</td>\n",
       "      <td>Not assigned</td>\n",
       "      <td></td>\n",
       "    </tr>\n",
       "    <tr>\n",
       "      <th>1</th>\n",
       "      <td>M2A</td>\n",
       "      <td>Not assigned</td>\n",
       "      <td></td>\n",
       "    </tr>\n",
       "    <tr>\n",
       "      <th>2</th>\n",
       "      <td>M3A</td>\n",
       "      <td>North York</td>\n",
       "      <td>Parkwoods</td>\n",
       "    </tr>\n",
       "    <tr>\n",
       "      <th>3</th>\n",
       "      <td>M4A</td>\n",
       "      <td>North York</td>\n",
       "      <td>Victoria Village</td>\n",
       "    </tr>\n",
       "    <tr>\n",
       "      <th>4</th>\n",
       "      <td>M5A</td>\n",
       "      <td>Downtown Toronto</td>\n",
       "      <td>Regent Park, Harbourfront</td>\n",
       "    </tr>\n",
       "  </tbody>\n",
       "</table>\n",
       "</div>"
      ],
      "text/plain": [
       "  PostalCode           Borough               Neighborhood\n",
       "0        M1A      Not assigned                           \n",
       "1        M2A      Not assigned                           \n",
       "2        M3A        North York                  Parkwoods\n",
       "3        M4A        North York           Victoria Village\n",
       "4        M5A  Downtown Toronto  Regent Park, Harbourfront"
      ]
     },
     "execution_count": 113,
     "metadata": {},
     "output_type": "execute_result"
    }
   ],
   "source": [
    "soup_table = soup.find('table')\n",
    "\n",
    "# function to get the text from a list of HMTL tags\n",
    "def get_text_map(lst):\n",
    "    lst = list(map(lambda s: s.get_text(strip=True), lst))\n",
    "    \n",
    "    return lst\n",
    "\n",
    "# get all the column data\n",
    "data = soup_table.find_all('td')\n",
    "data = get_text_map(data)\n",
    "\n",
    "# get the data for each column\n",
    "p_codes = data[::3]\n",
    "bghs = data[1::3]\n",
    "nbhs = data[2::3]\n",
    "\n",
    "# replace slashes with commas for each neighborhood\n",
    "nbhs = list(map(lambda s: s.replace(\" / \", \", \"), nbhs))\n",
    "\n",
    "toronto_df = pd.DataFrame(zip(p_codes, bghs, nbhs), columns=['PostalCode', 'Borough', 'Neighborhood'])\n",
    "toronto_df.head()"
   ]
  },
  {
   "cell_type": "markdown",
   "metadata": {},
   "source": [
    "Filter out all the rows that have value of 'Not assigned' in the __Borough__ column. Also, for rows with a value of no assigned neighborhood, then assign the borough as the neighborhood."
   ]
  },
  {
   "cell_type": "code",
   "execution_count": 115,
   "metadata": {},
   "outputs": [
    {
     "name": "stdout",
     "output_type": "stream",
     "text": [
      "North York          24\n",
      "Downtown Toronto    19\n",
      "Scarborough         17\n",
      "Etobicoke           12\n",
      "Central Toronto      9\n",
      "West Toronto         6\n",
      "East York            5\n",
      "York                 5\n",
      "East Toronto         5\n",
      "Mississauga          1\n",
      "Name: Borough, dtype: int64\n"
     ]
    }
   ],
   "source": [
    "# drop rows with no boroughs\n",
    "toronto_df = toronto_df[toronto_df.Borough != 'Not assigned']\n",
    "\n",
    "# confirm that there are no boroughs with the value 'Not assigned'\n",
    "print(toronto_df['Borough'].value_counts())"
   ]
  },
  {
   "cell_type": "code",
   "execution_count": 103,
   "metadata": {},
   "outputs": [
    {
     "name": "stdout",
     "output_type": "stream",
     "text": [
      "Number of not assigned neighborhoods before: 0\n",
      "Number of not assigned neighborhoods after: 0\n",
      "\n",
      "\n",
      "Downsview                                           4\n",
      "Don Mills                                           2\n",
      "Willowdale                                          2\n",
      "Dufferin, Dovercourt Village                        1\n",
      "Garden District, Ryerson                            1\n",
      "                                                   ..\n",
      "Roselawn                                            1\n",
      "Del Ray, Mount Dennis, Keelsdale and Silverthorn    1\n",
      "Runnymede, The Junction North                       1\n",
      "St. James Town, Cabbagetown                         1\n",
      "Cedarbrae                                           1\n",
      "Name: Neighborhood, Length: 98, dtype: int64\n"
     ]
    }
   ],
   "source": [
    "# replace 'Not assigned' neighborhoods with their boroughs\n",
    "num_na_before = toronto_df[toronto_df['Neighborhood'] == ''].shape[0]\n",
    "\n",
    "toronto_df['Neighborhood'] = np.where(toronto_df['Neighborhood'] == '', \n",
    "                                      toronto_df['Borough'], \n",
    "                                      toronto_df['Neighborhood'])\n",
    "\n",
    "num_na_after = toronto_df[toronto_df['Neighborhood'] == toronto_df['Borough']].shape[0]\n",
    "\n",
    "# confirm that there are no neighborhoods with the value 'Not assigned'\n",
    "# and that the count before and after is the same\n",
    "print(\"Number of not assigned neighborhoods before:\", num_na_before)\n",
    "print(\"Number of not assigned neighborhoods after:\", num_na_after)\n",
    "print('\\n')\n",
    "print(toronto_df['Neighborhood'].value_counts())"
   ]
  },
  {
   "cell_type": "code",
   "execution_count": null,
   "metadata": {},
   "outputs": [],
   "source": []
  }
 ],
 "metadata": {
  "kernelspec": {
   "display_name": "Python 3",
   "language": "python",
   "name": "python3"
  },
  "language_info": {
   "codemirror_mode": {
    "name": "ipython",
    "version": 3
   },
   "file_extension": ".py",
   "mimetype": "text/x-python",
   "name": "python",
   "nbconvert_exporter": "python",
   "pygments_lexer": "ipython3",
   "version": "3.7.4"
  }
 },
 "nbformat": 4,
 "nbformat_minor": 2
}
